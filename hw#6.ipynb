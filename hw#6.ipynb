{
 "cells": [
  {
   "cell_type": "code",
   "execution_count": 8,
   "id": "f0c8002c",
   "metadata": {},
   "outputs": [
    {
     "name": "stdout",
     "output_type": "stream",
     "text": [
      "enter num of seconds 3671\n",
      "hours:1 minutes:1 seconds:11\n"
     ]
    }
   ],
   "source": [
    "#1\n",
    "sec=int(input(\"enter num of seconds \"))\n",
    "hours=sec//3600\n",
    "sec=sec-(hours*3600)\n",
    "minutes=sec//60\n",
    "seconds=sec-(minutes*60)\n",
    "print(f\"hours:{hours} minutes:{minutes} seconds:{seconds}\" )"
   ]
  },
  {
   "cell_type": "code",
   "execution_count": 10,
   "id": "46337936",
   "metadata": {},
   "outputs": [
    {
     "name": "stdout",
     "output_type": "stream",
     "text": [
      "False\n"
     ]
    }
   ],
   "source": [
    "#2\n",
    "def regularRectangel(h, base, area):\n",
    "    if(area==((h*base)/2)):\n",
    "        return True\n",
    "    return False\n",
    "\n",
    "print(regularRectangel(5, 3, 5))"
   ]
  },
  {
   "cell_type": "code",
   "execution_count": 53,
   "id": "5884f7ef",
   "metadata": {},
   "outputs": [
    {
     "data": {
      "text/plain": [
       "{'January': 0,\n",
       " 'February': 0,\n",
       " 'March': 0,\n",
       " 'April': 0,\n",
       " 'May': 1,\n",
       " 'June': 0,\n",
       " 'July': 0,\n",
       " 'August': 0,\n",
       " 'September': 0,\n",
       " 'October': 0,\n",
       " 'November': 0,\n",
       " 'December': 2}"
      ]
     },
     "execution_count": 53,
     "metadata": {},
     "output_type": "execute_result"
    }
   ],
   "source": [
    "#3\n",
    "dicty={ \"Albert Einstein\": \"14/05/1879\",\"Ada Byron Lovelace\": \"10/12/1815\",\"Benjamin Franklin\": \"17/12/106\"}\n",
    "monthes=['January', 'February', 'March', 'April', 'May', 'June', 'July', 'August', 'September', 'October', 'November', 'December']\n",
    "amount = [0 for i in range(12)]\n",
    "for x in dicty.values():\n",
    "    amount[int(x[3:5])-1]+=1\n",
    "res= {monthes[i]: amount[i] for i in range(len(monthes))}\n",
    "res"
   ]
  },
  {
   "cell_type": "code",
   "execution_count": 65,
   "id": "c664558c",
   "metadata": {},
   "outputs": [],
   "source": [
    "#4\n",
    "class PhoneBook:\n",
    "    def __init__(self):\n",
    "        self.entries = []\n",
    "\n",
    "    def add_entry(self, first, last, city, phone):\n",
    "        self.entries.append({'first': first, 'last': last,\n",
    "                             'city': city, 'phone': phone})\n",
    "\n",
    "    def by_name(self, name):\n",
    "        return [entry for entry in self.entries if name in entry['first'] or name in entry['last']]\n",
    "\n",
    "    def by_prefix(self, prefix):\n",
    "        return [entry for entry in self.entries if entry['first'].startswith(prefix) or entry['last'].startswith(prefix)]\n",
    "\n",
    "    def by_page(self, page_number):\n",
    "        start = (page_number - 1) * 20\n",
    "        end = page_number * 20\n",
    "        return self.entries[start:end]\n"
   ]
  },
  {
   "cell_type": "code",
   "execution_count": 70,
   "id": "18f7f215",
   "metadata": {},
   "outputs": [
    {
     "name": "stdout",
     "output_type": "stream",
     "text": [
      "[{'first': 'J', 'last': 'D', 'city': 'L', 'phone': '234'}]\n",
      "[{'first': 'Jww', 'last': 'l', 'city': 'N', 'phone': '123'}, {'first': 'J', 'last': 'D', 'city': 'L', 'phone': '234'}]\n",
      "[]\n"
     ]
    }
   ],
   "source": [
    "book = PhoneBook()\n",
    "book.add_entry('Jww', 'l', 'N', '123')\n",
    "book.add_entry('J', 'D', 'L', '234')\n",
    "book.add_entry('B', 'S', 'C', '345')\n",
    "\n",
    "print(book.by_name('D'))\n",
    "print(book.by_prefix('J'))\n",
    "print(book.by_page(2))\n"
   ]
  }
 ],
 "metadata": {
  "kernelspec": {
   "display_name": "Python 3 (ipykernel)",
   "language": "python",
   "name": "python3"
  },
  "language_info": {
   "codemirror_mode": {
    "name": "ipython",
    "version": 3
   },
   "file_extension": ".py",
   "mimetype": "text/x-python",
   "name": "python",
   "nbconvert_exporter": "python",
   "pygments_lexer": "ipython3",
   "version": "3.11.1"
  }
 },
 "nbformat": 4,
 "nbformat_minor": 5
}
