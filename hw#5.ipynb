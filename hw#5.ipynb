{
 "cells": [
  {
   "cell_type": "code",
   "execution_count": 5,
   "id": "c78763b5",
   "metadata": {},
   "outputs": [
    {
     "name": "stdout",
     "output_type": "stream",
     "text": [
      "3\n",
      "5\n",
      "7\n",
      "11\n",
      "13\n",
      "17\n"
     ]
    }
   ],
   "source": [
    "#1\n",
    "import argparse\n",
    "parser = argparse.ArgumentParser()\n",
    "parser.add_argument('--start', type=int, help='start')\n",
    "parser.add_argument('--end', type=int, help='end')\n",
    "args = parser.parse_args()\n",
    "\n",
    "def print_primes(start, end):\n",
    "    for num in range(start, end + 1):\n",
    "        for i in range(2, num):\n",
    "            if (num % i) == 0:\n",
    "                break\n",
    "        else:\n",
    "            print(num)\n",
    "print_primes(args.start, args.end)"
   ]
  },
  {
   "cell_type": "code",
   "execution_count": null,
   "id": "db4dbc7e",
   "metadata": {},
   "outputs": [],
   "source": [
    "#2\n",
    "parser.add_argument('--numbers', type=list, help='entrr your list')\n",
    "parser.add_argument('--target', type=int, help='your target')\n",
    "\n",
    "def find_sum_pair(numbers, target):\n",
    "     complements = {}\n",
    "        for i, num in enumerate(numbers):\n",
    "            complement = target - num\n",
    "            if complement in complements:\n",
    "                return (complements[complement], i)\n",
    "            complements[num] = i\n",
    "        return \"not found!\"\n",
    "    \n",
    "find_sum_pair(args.numbers, args.target)"
   ]
  },
  {
   "cell_type": "code",
   "execution_count": 6,
   "id": "2fe73df3",
   "metadata": {},
   "outputs": [
    {
     "name": "stdout",
     "output_type": "stream",
     "text": [
      "[('a', 2), ('d', 2), ('f', 2), ('g', 2), ('h', 2), ('j', 1), ('k', 1), ('l', 1), ('s', 2)]\n"
     ]
    }
   ],
   "source": [
    "#3\n",
    "parser.add_argument('--my_str', type=str, help='entrr your string')\n",
    "#args = parser.parse_args()\n",
    "my_str=args.my_str\n",
    "\n",
    "char_counts = {}\n",
    "for char in my_str:\n",
    "    if char in char_counts:\n",
    "        char_counts[char] += 1\n",
    "    else:\n",
    "        char_counts[char] = 1\n",
    "        \n",
    "print(sorted(char_counts.items()))"
   ]
  },
  {
   "cell_type": "code",
   "execution_count": 10,
   "id": "51e00056",
   "metadata": {},
   "outputs": [
    {
     "name": "stdout",
     "output_type": "stream",
     "text": [
      "digits:3, letters:15\n"
     ]
    }
   ],
   "source": [
    "#4\n",
    "parser.add_argument('--my_str', type=str, help='entrr your string')\n",
    "my_str=args.my_str\n",
    "\n",
    "num_digits = 0\n",
    "num_letters = 0\n",
    "\n",
    "for char in my_str:\n",
    "    if char.isdigit():\n",
    "        num_digits += 1\n",
    "    elif char.isalpha():\n",
    "        num_letters += 1\n",
    "        \n",
    "print(f\"digits:{num_digits}, letters:{num_letters}\")"
   ]
  },
  {
   "cell_type": "code",
   "execution_count": null,
   "id": "9e68d6ff",
   "metadata": {},
   "outputs": [],
   "source": [
    "#5\n",
    "parser.add_argument('--name', type=str, help='name of student')\n",
    "parser.add_argument('--age', type=int, help='age of student')\n",
    "parser.add_argument('--brothers', type=str, nargs='+', help='list of brothers')\n",
    "\n",
    "print('Name:', args.name)\n",
    "print('Age:', args.age)\n",
    "print('Brothers:', args.brothers)"
   ]
  }
 ],
 "metadata": {
  "kernelspec": {
   "display_name": "Python 3 (ipykernel)",
   "language": "python",
   "name": "python3"
  },
  "language_info": {
   "codemirror_mode": {
    "name": "ipython",
    "version": 3
   },
   "file_extension": ".py",
   "mimetype": "text/x-python",
   "name": "python",
   "nbconvert_exporter": "python",
   "pygments_lexer": "ipython3",
   "version": "3.11.1"
  }
 },
 "nbformat": 4,
 "nbformat_minor": 5
}
